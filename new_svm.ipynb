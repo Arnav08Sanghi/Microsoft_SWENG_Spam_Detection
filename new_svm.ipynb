{
 "cells": [
  {
   "cell_type": "code",
   "execution_count": null,
   "metadata": {},
   "outputs": [
    {
     "name": "stdout",
     "output_type": "stream",
     "text": [
      "Fitting 5 folds for each of 72 candidates, totalling 360 fits\n"
     ]
    }
   ],
   "source": [
    "import pandas as pd\n",
    "from sklearn.pipeline import Pipeline\n",
    "from sklearn.feature_extraction.text import TfidfVectorizer\n",
    "from sklearn.feature_selection import SelectKBest, chi2\n",
    "from sklearn.svm import LinearSVC\n",
    "from sklearn.model_selection import GridSearchCV, train_test_split\n",
    "from sklearn.metrics import f1_score, classification_report, accuracy_score, precision_score, recall_score\n",
    "import joblib\n",
    "\n",
    "data = pd.read_csv(\"model/data/balanced_raw_data.csv\", header=None, names=['text', 'label'])\n",
    "X = data['text']\n",
    "y = data['label']\n",
    "\n",
    "xtrain, xtest, ytrain, ytest = train_test_split(X, y, test_size=0.2, random_state=42)\n",
    "\n",
    "# pipeline creation, have tweaked random things but this seems to work well\n",
    "pipeline = Pipeline([\n",
    "    ('tfidf', TfidfVectorizer()),\n",
    "    ('select', SelectKBest(score_func=chi2)),\n",
    "    ('svc', LinearSVC(class_weight='balanced', max_iter=10000))\n",
    "])\n",
    "\n",
    "# define a parameter grid, cylce through various values to see what works best lol\n",
    "param_grid = {\n",
    "    'tfidf__max_df': [0.9, 1.0],\n",
    "    'tfidf__min_df': [1, 2],\n",
    "    'tfidf__ngram_range': [(1, 1), (1, 2)],\n",
    "    'select__k': ['all', 1000, 5000],\n",
    "    'svc__C': [0.1, 1, 10]\n",
    "}\n",
    "\n",
    "# optimises f1 score hopefully...\n",
    "grid = GridSearchCV(pipeline, param_grid, scoring='f1', cv=5, verbose=3, n_jobs=-1)\n",
    "grid.fit(xtrain, ytrain)\n",
    "\n",
    "\n",
    "print(\"best parameters found:\")\n",
    "print(grid.best_params_)\n",
    "print(\"best cross-validation F1 score:\", grid.best_score_)\n",
    "\n",
    "# run tests on the test set to see what the f1 score looks like\n",
    "y_pred = grid.predict(xtest)\n",
    "accuracy = accuracy_score(ytest, y_pred)\n",
    "precision = precision_score(ytest, y_pred)\n",
    "recall = recall_score(ytest, y_pred)\n",
    "f1 = f1_score(ytest, y_pred)\n",
    "\n",
    "print(\"the accuracy is:\", accuracy)\n",
    "print(\"the precision is :\", precision)\n",
    "print(\"the recall:\", recall)\n",
    "print(\"the F1 score:\", f1)\n",
    "print(\"this is the classification report:\")\n",
    "print(classification_report(ytest, y_pred))\n",
    "\n",
    "joblib.dump(grid.best_estimator_, 'final_svm.pkl')\n"
   ]
  },
  {
   "cell_type": "code",
   "execution_count": null,
   "metadata": {},
   "outputs": [
    {
     "name": "stdout",
     "output_type": "stream",
     "text": [
      "Accuracy: 0.7212569444444444\n",
      "Precision: 0.352530382731725\n",
      "Recall: 0.8138950542317518\n",
      "F1 Score: 0.4919692693237479\n",
      "\n",
      "Classification Report:\n",
      "              precision    recall  f1-score   support\n",
      "\n",
      "           0       0.95      0.70      0.81    120121\n",
      "           1       0.35      0.81      0.49     23879\n",
      "\n",
      "    accuracy                           0.72    144000\n",
      "   macro avg       0.65      0.76      0.65    144000\n",
      "weighted avg       0.85      0.72      0.76    144000\n",
      "\n"
     ]
    }
   ],
   "source": [
    "\n",
    "import pandas as pd\n",
    "import joblib\n",
    "from sklearn.metrics import accuracy_score, precision_score, recall_score, f1_score, classification_report\n",
    "from sklearn.model_selection import train_test_split\n",
    "\n",
    "data = pd.read_csv(\"model/data/balanced_raw_data.csv\", header=None, names=['text', 'label'])\n",
    "X = data['text']\n",
    "y = data['label']\n",
    "\n",
    "doesntmatter, xtest, doesntmatter, ytest = train_test_split(X, y, test_size=0.2, random_state=42)\n",
    "\n",
    "model = joblib.load('final_svm.pkl')\n",
    "\n",
    "y_pred = model.predict(xtest)\n",
    "\n",
    "accuracy = accuracy_score(ytest, y_pred)\n",
    "precision = precision_score(ytest, y_pred)\n",
    "recall = recall_score(ytest, y_pred)\n",
    "f1 = f1_score(ytest, y_pred)\n",
    "\n",
    "print(\"the accuracy is:\", accuracy)\n",
    "print(\"the precision is :\", precision)\n",
    "print(\"the recall:\", recall)\n",
    "print(\"the F1 score:\", f1)\n",
    "\n",
    "\n"
   ]
  }
 ],
 "metadata": {
  "kernelspec": {
   "display_name": "sklearn-env",
   "language": "python",
   "name": "python3"
  },
  "language_info": {
   "codemirror_mode": {
    "name": "ipython",
    "version": 3
   },
   "file_extension": ".py",
   "mimetype": "text/x-python",
   "name": "python",
   "nbconvert_exporter": "python",
   "pygments_lexer": "ipython3",
   "version": "3.12.6"
  }
 },
 "nbformat": 4,
 "nbformat_minor": 2
}
